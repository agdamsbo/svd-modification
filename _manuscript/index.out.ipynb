{
 "cells": [
  {
   "cell_type": "markdown",
   "metadata": {},
   "source": [
    "# Svd-modification\n",
    "\n",
    "[Andreas Gammelgaard Damsbo](https://pure.au.dk/portal/en/persons/andreas-gammelgaard-damsbo(e3c4afce-3eba-4456-8b8b-2fd90775c87a).html) [![](data:image/png;base64,iVBORw0KGgoAAAANSUhEUgAAABAAAAAQCAYAAAAf8/9hAAAAGXRFWHRTb2Z0d2FyZQBBZG9iZSBJbWFnZVJlYWR5ccllPAAAA2ZpVFh0WE1MOmNvbS5hZG9iZS54bXAAAAAAADw/eHBhY2tldCBiZWdpbj0i77u/IiBpZD0iVzVNME1wQ2VoaUh6cmVTek5UY3prYzlkIj8+IDx4OnhtcG1ldGEgeG1sbnM6eD0iYWRvYmU6bnM6bWV0YS8iIHg6eG1wdGs9IkFkb2JlIFhNUCBDb3JlIDUuMC1jMDYwIDYxLjEzNDc3NywgMjAxMC8wMi8xMi0xNzozMjowMCAgICAgICAgIj4gPHJkZjpSREYgeG1sbnM6cmRmPSJodHRwOi8vd3d3LnczLm9yZy8xOTk5LzAyLzIyLXJkZi1zeW50YXgtbnMjIj4gPHJkZjpEZXNjcmlwdGlvbiByZGY6YWJvdXQ9IiIgeG1sbnM6eG1wTU09Imh0dHA6Ly9ucy5hZG9iZS5jb20veGFwLzEuMC9tbS8iIHhtbG5zOnN0UmVmPSJodHRwOi8vbnMuYWRvYmUuY29tL3hhcC8xLjAvc1R5cGUvUmVzb3VyY2VSZWYjIiB4bWxuczp4bXA9Imh0dHA6Ly9ucy5hZG9iZS5jb20veGFwLzEuMC8iIHhtcE1NOk9yaWdpbmFsRG9jdW1lbnRJRD0ieG1wLmRpZDo1N0NEMjA4MDI1MjA2ODExOTk0QzkzNTEzRjZEQTg1NyIgeG1wTU06RG9jdW1lbnRJRD0ieG1wLmRpZDozM0NDOEJGNEZGNTcxMUUxODdBOEVCODg2RjdCQ0QwOSIgeG1wTU06SW5zdGFuY2VJRD0ieG1wLmlpZDozM0NDOEJGM0ZGNTcxMUUxODdBOEVCODg2RjdCQ0QwOSIgeG1wOkNyZWF0b3JUb29sPSJBZG9iZSBQaG90b3Nob3AgQ1M1IE1hY2ludG9zaCI+IDx4bXBNTTpEZXJpdmVkRnJvbSBzdFJlZjppbnN0YW5jZUlEPSJ4bXAuaWlkOkZDN0YxMTc0MDcyMDY4MTE5NUZFRDc5MUM2MUUwNEREIiBzdFJlZjpkb2N1bWVudElEPSJ4bXAuZGlkOjU3Q0QyMDgwMjUyMDY4MTE5OTRDOTM1MTNGNkRBODU3Ii8+IDwvcmRmOkRlc2NyaXB0aW9uPiA8L3JkZjpSREY+IDwveDp4bXBtZXRhPiA8P3hwYWNrZXQgZW5kPSJyIj8+84NovQAAAR1JREFUeNpiZEADy85ZJgCpeCB2QJM6AMQLo4yOL0AWZETSqACk1gOxAQN+cAGIA4EGPQBxmJA0nwdpjjQ8xqArmczw5tMHXAaALDgP1QMxAGqzAAPxQACqh4ER6uf5MBlkm0X4EGayMfMw/Pr7Bd2gRBZogMFBrv01hisv5jLsv9nLAPIOMnjy8RDDyYctyAbFM2EJbRQw+aAWw/LzVgx7b+cwCHKqMhjJFCBLOzAR6+lXX84xnHjYyqAo5IUizkRCwIENQQckGSDGY4TVgAPEaraQr2a4/24bSuoExcJCfAEJihXkWDj3ZAKy9EJGaEo8T0QSxkjSwORsCAuDQCD+QILmD1A9kECEZgxDaEZhICIzGcIyEyOl2RkgwAAhkmC+eAm0TAAAAABJRU5ErkJggg==)](https://orcid.org/0000-0002-7559-1154) ([Danish Stroke Centre](https://www.en.auh.dk/departments/danish-stroke-centre/), [Department of Clinical Medicine](https://clin.au.dk/), [Steno Diabetes Centre](https://www.stenoaarhus.dk/))\n",
    "\n",
    "**Background and aims** Physical activity (PA) may reduce the development of small vessel disease (SVD). The effect of physical activity and more classical vascular risk factors such as hypertension and diabetes in the development of SVD is debated, however. We aim to investigate the effect modification of physical activity on traditional vascular risk factors and the burden of small vessel disease among acute ischemic stroke patients.\n",
    "\n",
    "**Methods** We have pooled patients from two clinical trials on acute ischemic stroke treatment. The main outcome is an ordinal scale score of quantified MR biomarkers of small vessel disease (SVD) burden based on visually assessed acute stroke scans (T2\\* or SWI and FLAIR sequences). Biomarkers includes microbleeds, old lacunar infarcts, superficial siderosis, white matter hyperintensities and atrophy. Covariates includes age, sex, pre-stroke physical activity, diabetes, hypertension, atrial fibrillation and previous cardiovascular diseases. Pre-stroke PA was assessed with a questionnaire on inclusion within a few days after stroke onset. Data will be analyzed using bivariate and multivariate linear regression analysis.\n",
    "\n",
    "**Results** We expect to include a total of around 1000 adult patients admitted to the comprehensive stroke centre at Aarhus University Hospital between 2013-2022. Preliminary results will be presented at ESOC 2024.\n",
    "\n",
    "**Conclusions** Physical activity may be an important factor in modifying the risk of SVD development in stroke patients."
   ],
   "id": "5deddb37-786e-49d1-9c92-31f7de1aaed2"
  },
  {
   "cell_type": "code",
   "execution_count": null,
   "metadata": {},
   "outputs": [],
   "source": [
    "source(here::here(\"R/functions.R\"))"
   ],
   "id": "fad7381e-c3aa-4463-a9b2-f986ce917c04"
  },
  {
   "cell_type": "markdown",
   "metadata": {},
   "source": [
    "## Section\n",
    "\n",
    "This is a simple placeholder for the manuscript’s main document ([Knuth 1984](#ref-knuth84)).\n",
    "\n",
    "Knuth, Donald E. 1984. “Literate Programming.” *Comput. J.* 27 (2): 97–111. <https://doi.org/10.1093/comjnl/27.2.97>."
   ],
   "id": "2c4a264d-6a67-45e9-8fdb-aafb99f5128a"
  }
 ],
 "nbformat": 4,
 "nbformat_minor": 5,
 "metadata": {}
}
