{
 "cells": [
  {
   "cell_type": "markdown",
   "metadata": {},
   "source": [
    "# Physical activity as an effect modificator of lifestyle factors on\n",
    "\n",
    "small vessel deisease burden\n",
    "\n",
    "[Andreas Gammelgaard Damsbo](https://pure.au.dk/portal/en/persons/andreas-gammelgaard-damsbo(e3c4afce-3eba-4456-8b8b-2fd90775c87a).html) [![](data:image/png;base64,iVBORw0KGgoAAAANSUhEUgAAABAAAAAQCAYAAAAf8/9hAAAAGXRFWHRTb2Z0d2FyZQBBZG9iZSBJbWFnZVJlYWR5ccllPAAAA2ZpVFh0WE1MOmNvbS5hZG9iZS54bXAAAAAAADw/eHBhY2tldCBiZWdpbj0i77u/IiBpZD0iVzVNME1wQ2VoaUh6cmVTek5UY3prYzlkIj8+IDx4OnhtcG1ldGEgeG1sbnM6eD0iYWRvYmU6bnM6bWV0YS8iIHg6eG1wdGs9IkFkb2JlIFhNUCBDb3JlIDUuMC1jMDYwIDYxLjEzNDc3NywgMjAxMC8wMi8xMi0xNzozMjowMCAgICAgICAgIj4gPHJkZjpSREYgeG1sbnM6cmRmPSJodHRwOi8vd3d3LnczLm9yZy8xOTk5LzAyLzIyLXJkZi1zeW50YXgtbnMjIj4gPHJkZjpEZXNjcmlwdGlvbiByZGY6YWJvdXQ9IiIgeG1sbnM6eG1wTU09Imh0dHA6Ly9ucy5hZG9iZS5jb20veGFwLzEuMC9tbS8iIHhtbG5zOnN0UmVmPSJodHRwOi8vbnMuYWRvYmUuY29tL3hhcC8xLjAvc1R5cGUvUmVzb3VyY2VSZWYjIiB4bWxuczp4bXA9Imh0dHA6Ly9ucy5hZG9iZS5jb20veGFwLzEuMC8iIHhtcE1NOk9yaWdpbmFsRG9jdW1lbnRJRD0ieG1wLmRpZDo1N0NEMjA4MDI1MjA2ODExOTk0QzkzNTEzRjZEQTg1NyIgeG1wTU06RG9jdW1lbnRJRD0ieG1wLmRpZDozM0NDOEJGNEZGNTcxMUUxODdBOEVCODg2RjdCQ0QwOSIgeG1wTU06SW5zdGFuY2VJRD0ieG1wLmlpZDozM0NDOEJGM0ZGNTcxMUUxODdBOEVCODg2RjdCQ0QwOSIgeG1wOkNyZWF0b3JUb29sPSJBZG9iZSBQaG90b3Nob3AgQ1M1IE1hY2ludG9zaCI+IDx4bXBNTTpEZXJpdmVkRnJvbSBzdFJlZjppbnN0YW5jZUlEPSJ4bXAuaWlkOkZDN0YxMTc0MDcyMDY4MTE5NUZFRDc5MUM2MUUwNEREIiBzdFJlZjpkb2N1bWVudElEPSJ4bXAuZGlkOjU3Q0QyMDgwMjUyMDY4MTE5OTRDOTM1MTNGNkRBODU3Ii8+IDwvcmRmOkRlc2NyaXB0aW9uPiA8L3JkZjpSREY+IDwveDp4bXBtZXRhPiA8P3hwYWNrZXQgZW5kPSJyIj8+84NovQAAAR1JREFUeNpiZEADy85ZJgCpeCB2QJM6AMQLo4yOL0AWZETSqACk1gOxAQN+cAGIA4EGPQBxmJA0nwdpjjQ8xqArmczw5tMHXAaALDgP1QMxAGqzAAPxQACqh4ER6uf5MBlkm0X4EGayMfMw/Pr7Bd2gRBZogMFBrv01hisv5jLsv9nLAPIOMnjy8RDDyYctyAbFM2EJbRQw+aAWw/LzVgx7b+cwCHKqMhjJFCBLOzAR6+lXX84xnHjYyqAo5IUizkRCwIENQQckGSDGY4TVgAPEaraQr2a4/24bSuoExcJCfAEJihXkWDj3ZAKy9EJGaEo8T0QSxkjSwORsCAuDQCD+QILmD1A9kECEZgxDaEZhICIzGcIyEyOl2RkgwAAhkmC+eAm0TAAAAABJRU5ErkJggg==)](https://orcid.org/0000-0002-7559-1154) ([Danish Stroke Centre](https://www.en.auh.dk/departments/danish-stroke-centre/), [Department of Clinical Medicine](https://clin.au.dk/), [Steno Diabetes Centre](https://www.stenoaarhus.dk/))  \n",
    "Rolf Ankerlund Blauenfeldt ([Danish Stroke Centre](https://www.en.auh.dk/departments/danish-stroke-centre/), [Department of Clinical Medicine](https://clin.au.dk/))  \n",
    "Grethe Andersen ([Danish Stroke Centre](https://www.en.auh.dk/departments/danish-stroke-centre/), [Department of Clinical Medicine](https://clin.au.dk/))  \n",
    "Janne Kaergaard Mortensen ([Danish Stroke Centre](https://www.en.auh.dk/departments/danish-stroke-centre/), [Department of Clinical Medicine](https://clin.au.dk/))\n",
    "\n",
    "**Background and aims** Physical activity (PA) may reduce the development of small vessel disease (SVD). The effect of physical activity and more classical vascular risk factors such as hypertension and diabetes in the development of SVD is debated, however. We aim to investigate the effect modification of physical activity on traditional vascular risk factors and the burden of small vessel disease among acute ischemic stroke patients.\n",
    "\n",
    "**Methods** We have pooled patients from two clinical trials on acute ischemic stroke treatment. The main outcome is an ordinal scale score of quantified MR biomarkers of small vessel disease (SVD) burden based on visually assessed acute stroke scans (T2\\* or SWI and FLAIR sequences). Biomarkers includes microbleeds, old lacunar infarcts, superficial siderosis, white matter hyperintensities and atrophy. Covariates includes age, sex, pre-stroke physical activity, diabetes, hypertension, atrial fibrillation and previous cardiovascular diseases. Pre-stroke PA was assessed with a questionnaire on inclusion within a few days after stroke onset. Data will be analyzed using bivariate and multivariate linear regression analysis.\n",
    "\n",
    "**Results** We expect to include a total of around 1000 adult patients admitted to the comprehensive stroke centre at Aarhus University Hospital between 2013-2022. Preliminary results will be presented at ESOC 2024.\n",
    "\n",
    "**Conclusions** Physical activity may be an important factor in modifying the risk of SVD development in stroke patients."
   ],
   "id": "9643652d-6533-4c19-961a-8dd4b0dbaddf"
  },
  {
   "cell_type": "code",
   "execution_count": null,
   "metadata": {},
   "outputs": [],
   "source": [
    "source(here::here(\"R/functions.R\"))"
   ],
   "id": "2cce684d-741b-43b8-a813-443ae83af628"
  },
  {
   "cell_type": "markdown",
   "metadata": {},
   "source": [
    "## Introduction\n",
    "\n",
    "This is, for now, just a placeholder for upcoming article on physical activity as an effect modificator of lifestyle factors on the burden of small vessel disease in stroke patients.\n",
    "\n",
    "## Methods\n",
    "\n",
    "This study is based on a pooled dataset from two different randomised, clinical trials on stroke patients.\n",
    "\n",
    "## Results\n",
    "\n",
    "Please refer to @fig-flowchart for an overview of subjects included for analysis."
   ],
   "id": "b1441c5e-1ffc-4378-9121-201952a8b243"
  },
  {
   "cell_type": "code",
   "execution_count": null,
   "metadata": {
    "file": "images/flow.dot",
    "layout-align": "default"
   },
   "outputs": [
    {
     "output_type": "display_data",
     "metadata": {},
     "data": {
      "text/html": [
       "<svg width=\"672\" height=\"480\" viewbox=\"0.00 0.00 478.43 210.40\" xmlns=\"http://www.w3.org/2000/svg\" xlink=\"http://www.w3.org/1999/xlink\" style=\"; max-width: none; max-height: none\">\n",
       "<g id=\"graph0\" class=\"graph\" transform=\"scale(1 1) rotate(0) translate(4 206.4)\">\n",
       "<title>consort_diagram</title>\n",
       "<polygon fill=\"white\" stroke=\"transparent\" points=\"-4,4 -4,-206.4 474.43,-206.4 474.43,4 -4,4\"></polygon>\n",
       "<!-- label4 -->\n",
       "<g id=\"node1\" class=\"node\">\n",
       "<title>label4</title>\n",
       "<path fill=\"#a9c7fd\" stroke=\"#4f81bd\" d=\"M159.89,-202.4C159.89,-202.4 26.01,-202.4 26.01,-202.4 20.01,-202.4 14.01,-196.4 14.01,-190.4 14.01,-190.4 14.01,-178.4 14.01,-178.4 14.01,-172.4 20.01,-166.4 26.01,-166.4 26.01,-166.4 159.89,-166.4 159.89,-166.4 165.89,-166.4 171.89,-172.4 171.89,-178.4 171.89,-178.4 171.89,-190.4 171.89,-190.4 171.89,-196.4 165.89,-202.4 159.89,-202.4\"></path>\n",
       "<text text-anchor=\"middle\" x=\"92.95\" y=\"-180.2\" font-family=\"Times,serif\" font-size=\"14.00\">Pooled subjects with AIS</text>\n",
       "</g>\n",
       "<!-- label5 -->\n",
       "<g id=\"node2\" class=\"node\">\n",
       "<title>label5</title>\n",
       "<path fill=\"#a9c7fd\" stroke=\"#4f81bd\" d=\"M173.84,-36C173.84,-36 12.05,-36 12.05,-36 6.05,-36 0.05,-30 0.05,-24 0.05,-24 0.05,-12 0.05,-12 0.05,-6 6.05,0 12.05,0 12.05,0 173.84,0 173.84,0 179.84,0 185.84,-6 185.84,-12 185.84,-12 185.84,-24 185.84,-24 185.84,-30 179.84,-36 173.84,-36\"></path>\n",
       "<text text-anchor=\"middle\" x=\"92.95\" y=\"-13.8\" font-family=\"Times,serif\" font-size=\"14.00\">Subjects available for analysis</text>\n",
       "</g>\n",
       "<!-- label4&#45;&gt;label5 -->\n",
       "<!-- node1 -->\n",
       "<g id=\"node3\" class=\"node\">\n",
       "<title>node1</title>\n",
       "<polygon fill=\"none\" stroke=\"black\" points=\"341.16,-202.4 202.73,-202.4 202.73,-166.4 341.16,-166.4 341.16,-202.4\"></polygon>\n",
       "<text text-anchor=\"middle\" x=\"271.95\" y=\"-180.2\" font-family=\"Times,serif\" font-size=\"14.00\">All subjects (n=1055)</text>\n",
       "</g>\n",
       "<!-- P1 -->\n",
       "<g id=\"node6\" class=\"node\">\n",
       "<title>P1</title>\n",
       "<ellipse fill=\"black\" stroke=\"black\" cx=\"271.95\" cy=\"-101.2\" rx=\"0\" ry=\"0\"></ellipse>\n",
       "</g>\n",
       "<!-- node1&#45;&gt;P1 -->\n",
       "<g id=\"edge2\" class=\"edge\">\n",
       "<title>node1-&gt;P1</title>\n",
       "<path fill=\"none\" stroke=\"black\" d=\"M271.95,-166.18C271.95,-143.09 271.95,-104.69 271.95,-102.32\"></path>\n",
       "</g>\n",
       "<!-- node2 -->\n",
       "<g id=\"node4\" class=\"node\">\n",
       "<title>node2</title>\n",
       "<polygon fill=\"none\" stroke=\"black\" points=\"470.4,-130.6 289.49,-130.6 289.49,-71.8 470.4,-71.8 470.4,-130.6\"></polygon>\n",
       "<text text-anchor=\"start\" x=\"297.47\" y=\"-113.8\" font-family=\"Times,serif\" font-size=\"14.00\">Excluded (n=518):</text>\n",
       "<text text-anchor=\"start\" x=\"297.47\" y=\"-97\" font-family=\"Times,serif\" font-size=\"14.00\">• Manglende billeder (n=97)</text>\n",
       "<text text-anchor=\"start\" x=\"297.47\" y=\"-80.2\" font-family=\"Times,serif\" font-size=\"14.00\">• Not yet assessed (n=421)</text>\n",
       "</g>\n",
       "<!-- node3 -->\n",
       "<g id=\"node5\" class=\"node\">\n",
       "<title>node3</title>\n",
       "<polygon fill=\"none\" stroke=\"black\" points=\"339.82,-36 204.08,-36 204.08,0 339.82,0 339.82,-36\"></polygon>\n",
       "<text text-anchor=\"middle\" x=\"271.95\" y=\"-13.8\" font-family=\"Times,serif\" font-size=\"14.00\">Final dataset (n=537)</text>\n",
       "</g>\n",
       "<!-- P1&#45;&gt;node2 -->\n",
       "<g id=\"edge3\" class=\"edge\">\n",
       "<title>P1-&gt;node2</title>\n",
       "<path fill=\"none\" stroke=\"black\" d=\"M272.37,-101.2C274.56,-101.2 276.75,-101.2 278.93,-101.2\"></path>\n",
       "<polygon fill=\"black\" stroke=\"black\" points=\"279.18,-104.7 289.18,-101.2 279.18,-97.7 279.18,-104.7\"></polygon>\n",
       "</g>\n",
       "<!-- P1&#45;&gt;node3 -->\n",
       "<g id=\"edge4\" class=\"edge\">\n",
       "<title>P1-&gt;node3</title>\n",
       "<path fill=\"none\" stroke=\"black\" d=\"M271.95,-100.14C271.95,-98.66 271.95,-69.4 271.95,-46.44\"></path>\n",
       "<polygon fill=\"black\" stroke=\"black\" points=\"275.45,-46.14 271.95,-36.14 268.45,-46.14 275.45,-46.14\"></polygon>\n",
       "</g>\n",
       "</g>\n",
       "</svg>"
      ]
     }
    }
   ],
   "source": [],
   "id": "45086fff-69dc-481c-9f22-d001d98e855a"
  }
 ],
 "nbformat": 4,
 "nbformat_minor": 5,
 "metadata": {}
}
